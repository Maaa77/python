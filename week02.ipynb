{
 "cells": [
  {
   "cell_type": "markdown",
   "id": "4f6bfdc5",
   "metadata": {},
   "source": [
    "# 第一周内容回顾\n",
    "+ python介绍与下载运行\n",
    "+ 观察标准库\n",
    "\n",
    "# 第二周内容\n",
    "\n",
    "1. [github education packages](https://education.github.com/pack)   \n",
    " + 注册学生账号（使用学校地址邮箱）\n",
    " \n",
    "2. [pycharm](https://www.jetbrains.com/pycharm/download/#section=windows)的下载和安装(安装专业版=professional)\n",
    " + [永久激活pycharm](https://www.liuzhishi.com/3184.html)\n",
    " + 如果已经安装anaconda的配置下可以直接打开从cmd中，无需安装\n",
    " \n",
    "3. [jupyter notebook](https://jupyter.org/)的下载安装，学习使用\n",
    " + [notebook使用参考举例](https://www.kaggle.com/),可用作笔记记录等\n",
    " + 在电脑运行jupyter \n",
    "           \n",
    "       1) 输入\"conda install jupyter notebook\"\n",
    "   \n",
    "       2) 出现\"proceed([y]/n)?\"输入\"y\"\n",
    "   \n",
    "       3) 再次输入jupyter notebook,出现[本地搭建的web服务](http://127.0.0.1:8888/?token=783f435216a82add4c6ab582b1a940dac775b1be942a5167)\n",
    " + localhost为本地路径\n",
    " \n",
    "## 课本内容\n",
    "1. 项目一 奇数中选择指定的时间（minute） \n",
    "  "
   ]
  },
  {
   "cell_type": "markdown",
   "id": "1dd8a4cb",
   "metadata": {},
   "source": [
    "+ 准备工作（要用到的模块和函数）"
   ]
  },
  {
   "cell_type": "code",
   "execution_count": null,
   "id": "42b2745c",
   "metadata": {},
   "outputs": [],
   "source": [
    "from datetime"
   ]
  },
  {
   "cell_type": "markdown",
   "id": "1598027e",
   "metadata": {},
   "source": [
    "+ 指定某个模块中的某个函数"
   ]
  },
  {
   "cell_type": "code",
   "execution_count": null,
   "id": "47a37b8e",
   "metadata": {},
   "outputs": [],
   "source": [
    "import datetime"
   ]
  },
  {
   "cell_type": "code",
   "execution_count": 18,
   "id": "a4bf66b9",
   "metadata": {
    "scrolled": true
   },
   "outputs": [
    {
     "name": "stdout",
     "output_type": "stream",
     "text": [
      "This minute seems a little odd.\n"
     ]
    }
   ],
   "source": [
    "from datetime import datetime\n",
    "\n",
    "odds = [  1, 3,  5,  7,  9, 11,13,15,17,19,\n",
    "             21,23,25,27,29,31,33,35,37,39,\n",
    "             41,43,45,47,49,51,53,55,57,59]\n",
    "\n",
    "right_this_minute = datetime.today().minute\n",
    "\n",
    "if right_this_minute in odds:\n",
    "    print(\"This minute seems a little odd.\")\n",
    "else:\n",
    "    print(\"Not an odd minute.\")"
   ]
  },
  {
   "cell_type": "code",
   "execution_count": 13,
   "id": "bee44d40",
   "metadata": {},
   "outputs": [
    {
     "data": {
      "text/plain": [
       "datetime.date(2021, 9, 12)"
      ]
     },
     "execution_count": 13,
     "metadata": {},
     "output_type": "execute_result"
    }
   ],
   "source": [
    "import datetime\n",
    "datetime.date.today()"
   ]
  },
  {
   "cell_type": "code",
   "execution_count": 9,
   "id": "7d05f9a8",
   "metadata": {},
   "outputs": [
    {
     "data": {
      "text/plain": [
       "2021"
      ]
     },
     "execution_count": 9,
     "metadata": {},
     "output_type": "execute_result"
    }
   ],
   "source": [
    "import datetime\n",
    "datetime.date.today().year"
   ]
  },
  {
   "cell_type": "code",
   "execution_count": 10,
   "id": "669eb735",
   "metadata": {},
   "outputs": [
    {
     "data": {
      "text/plain": [
       "9"
      ]
     },
     "execution_count": 10,
     "metadata": {},
     "output_type": "execute_result"
    }
   ],
   "source": [
    "import datetime\n",
    "datetime.date.today().month"
   ]
  },
  {
   "cell_type": "code",
   "execution_count": 11,
   "id": "368928da",
   "metadata": {},
   "outputs": [
    {
     "data": {
      "text/plain": [
       "12"
      ]
     },
     "execution_count": 11,
     "metadata": {},
     "output_type": "execute_result"
    }
   ],
   "source": [
    "import datetime\n",
    "datetime.date.today().day"
   ]
  },
  {
   "cell_type": "code",
   "execution_count": 12,
   "id": "b3170451",
   "metadata": {},
   "outputs": [
    {
     "data": {
      "text/plain": [
       "'2021-09-12'"
      ]
     },
     "execution_count": 12,
     "metadata": {},
     "output_type": "execute_result"
    }
   ],
   "source": [
    "import datetime\n",
    "datetime.date.isoformat(datetime.date.today())"
   ]
  },
  {
   "cell_type": "code",
   "execution_count": 14,
   "id": "aadd2b6e",
   "metadata": {},
   "outputs": [
    {
     "data": {
      "text/plain": [
       "time.struct_time(tm_year=2021, tm_mon=9, tm_mday=12, tm_hour=19, tm_min=17, tm_sec=17, tm_wday=6, tm_yday=255, tm_isdst=0)"
      ]
     },
     "execution_count": 14,
     "metadata": {},
     "output_type": "execute_result"
    }
   ],
   "source": [
    "import time\n",
    "time.localtime()"
   ]
  },
  {
   "cell_type": "markdown",
   "id": "e6a9207d",
   "metadata": {},
   "source": [
    "2. 变量"
   ]
  },
  {
   "cell_type": "code",
   "execution_count": null,
   "id": "c73666e4",
   "metadata": {},
   "outputs": [],
   "source": [
    "name=\"cat\" "
   ]
  },
  {
   "cell_type": "markdown",
   "id": "81d8358b",
   "metadata": {},
   "source": [
    " + name是一个变量名,“=”相当于赋值,cat是一个值（数据)\n",
    " + 理解为将右边的值赋给左边的变量（从右往左读）"
   ]
  },
  {
   "cell_type": "code",
   "execution_count": 11,
   "id": "9dd3e9de",
   "metadata": {
    "scrolled": true
   },
   "outputs": [
    {
     "name": "stdout",
     "output_type": "stream",
     "text": [
      "Mu Mu\n",
      "What is the value of name2 now?\n"
     ]
    }
   ],
   "source": [
    "name = \"Mu\"\n",
    "\n",
    "name2 = name\n",
    "print(name,name2)\n",
    "\n",
    "name = \"Hao\"\n",
    "\n",
    "print(\"What is the value of name2 now?\")"
   ]
  },
  {
   "cell_type": "markdown",
   "id": "c90ee37a",
   "metadata": {},
   "source": [
    " + 为什么使用英文而不是中文？英文命名比较合理，中文比较占字符，运行速度相对较慢\n",
    " + 变量一旦创建就为一个独立的个体\n",
    " + 代码运行是从上到下的，除了循环函数\n",
    " "
   ]
  }
 ],
 "metadata": {
  "kernelspec": {
   "display_name": "Python 3",
   "language": "python",
   "name": "python3"
  },
  "language_info": {
   "codemirror_mode": {
    "name": "ipython",
    "version": 3
   },
   "file_extension": ".py",
   "mimetype": "text/x-python",
   "name": "python",
   "nbconvert_exporter": "python",
   "pygments_lexer": "ipython3",
   "version": "3.8.8"
  }
 },
 "nbformat": 4,
 "nbformat_minor": 5
}
