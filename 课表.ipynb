{
 "cells": [
  {
   "cell_type": "code",
   "execution_count": 14,
   "id": "209364fe",
   "metadata": {},
   "outputs": [
    {
     "name": "stdout",
     "output_type": "stream",
     "text": [
      "课程表\n",
      "星期三\n",
      "9:45-12:00 影视视听语言\n",
      "没课啦吃顿好的吧\n"
     ]
    }
   ],
   "source": [
    "print(\"课程表\")\n",
    "import datetime\n",
    "time = datetime.datetime.today().weekday()\n",
    "week_time = int(time)\n",
    "\n",
    "if week_time==1:\n",
    "    print(\"星期一\");print(\"8:00-10:25 新媒体用户分析\");print(\"10:35-12:00 微信小程序开发与运营\");print(\"连堂课终于可以休息了呜呜呜\");\n",
    "    print(\"18:45-20:10 形势与政策\")\n",
    "elif week_time==2:\n",
    "    print(\"星期二\");print(\"10:35-12:00 大学英语\");print(\"16:10-17:35 网络广告营销\")\n",
    "elif week_time==3:\n",
    "    print(\"星期三\");print(\"9:45-12:00 影视视听语言\");print(\"没课啦吃顿好的吧\")\n",
    "elif week_time==4:\n",
    "    print(\"星期四\");print(\"9:45-12:00 Python语言\");print(\"14:30-15:55广告文案\");print(\"16:10-17:35大学英语\")\n",
    "elif week_time==5:\n",
    "    print(\"星期五\");print(\"8:00-9:35 AI软件应用\");print(\"14:30-15:55 手绘艺术基础\")\n",
    "elif week_time==6:\n",
    "    print(\"星期六\");print(\"睡到十二点开始肝作业\")\n",
    "else:\n",
    "    print(\"星期天\");print(\"出去玩散散心\")"
   ]
  },
  {
   "cell_type": "code",
   "execution_count": null,
   "id": "6089a7b0",
   "metadata": {},
   "outputs": [],
   "source": []
  }
 ],
 "metadata": {
  "kernelspec": {
   "display_name": "Python 3",
   "language": "python",
   "name": "python3"
  },
  "language_info": {
   "codemirror_mode": {
    "name": "ipython",
    "version": 3
   },
   "file_extension": ".py",
   "mimetype": "text/x-python",
   "name": "python",
   "nbconvert_exporter": "python",
   "pygments_lexer": "ipython3",
   "version": "3.8.8"
  },
  "toc": {
   "base_numbering": 1,
   "nav_menu": {},
   "number_sections": true,
   "sideBar": true,
   "skip_h1_title": false,
   "title_cell": "Table of Contents",
   "title_sidebar": "Contents",
   "toc_cell": false,
   "toc_position": {},
   "toc_section_display": true,
   "toc_window_display": false
  }
 },
 "nbformat": 4,
 "nbformat_minor": 5
}
